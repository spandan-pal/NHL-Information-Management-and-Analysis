{
 "cells": [
  {
   "cell_type": "code",
   "execution_count": 2,
   "metadata": {},
   "outputs": [],
   "source": [
    "from scipy.optimize import minimize\n",
    "import pandas as pd"
   ]
  },
  {
   "cell_type": "code",
   "execution_count": 3,
   "metadata": {},
   "outputs": [],
   "source": [
    "df_ini=pd.read_csv('All_Games_Stats.csv',names=['GAMEID','GAMEDATE','HOME_TEAM','HOME_TEAM_INDEX','AWAY_TEAM','AWAY_TEAM_INDEX','HOME_TEAM_SCORE','AWAY_TEAM_SCORE','OVERTIME_FLAG'],skiprows=2)"
   ]
  },
  {
   "cell_type": "code",
   "execution_count": 4,
   "metadata": {},
   "outputs": [],
   "source": [
    "df=df_ini[df_ini['GAMEID'].astype(str).str.startswith('2022')]"
   ]
  },
  {
   "cell_type": "code",
   "execution_count": 5,
   "metadata": {},
   "outputs": [
    {
     "name": "stderr",
     "output_type": "stream",
     "text": [
      "/var/folders/24/s0t2htkj4ns689m4x6zy50jw0000gn/T/ipykernel_36600/1651319750.py:1: SettingWithCopyWarning: \n",
      "A value is trying to be set on a copy of a slice from a DataFrame.\n",
      "Try using .loc[row_indexer,col_indexer] = value instead\n",
      "\n",
      "See the caveats in the documentation: https://pandas.pydata.org/pandas-docs/stable/user_guide/indexing.html#returning-a-view-versus-a-copy\n",
      "  df[\"ACTUAL_SPREAD\"]=df[\"HOME_TEAM_SCORE\"]-df[\"AWAY_TEAM_SCORE\"]\n"
     ]
    }
   ],
   "source": [
    "df[\"ACTUAL_SPREAD\"]=df[\"HOME_TEAM_SCORE\"]-df[\"AWAY_TEAM_SCORE\"]\n",
    "df.reset_index(inplace=True)"
   ]
  },
  {
   "cell_type": "code",
   "execution_count": 6,
   "metadata": {},
   "outputs": [],
   "source": [
    "x=[0]*38"
   ]
  },
  {
   "cell_type": "code",
   "execution_count": 7,
   "metadata": {},
   "outputs": [],
   "source": [
    "n=df.shape[0]"
   ]
  },
  {
   "cell_type": "code",
   "execution_count": 8,
   "metadata": {},
   "outputs": [],
   "source": [
    "def o(x):\n",
    "    sse=0\n",
    "    for i in range(n):\n",
    "        p_s=x[df['HOME_TEAM_INDEX'][i]-1]-x[df['AWAY_TEAM_INDEX'][i]-1]+x[37]\n",
    "        p_e=df['ACTUAL_SPREAD'][i]-p_s\n",
    "        p_es=p_e**2\n",
    "        sse+=p_es\n",
    "    return sse\n",
    "def c(x):\n",
    "    a=0\n",
    "    for i in range(37):\n",
    "        a+=x[i]\n",
    "    av=a/37\n",
    "    return 85-av"
   ]
  },
  {
   "cell_type": "code",
   "execution_count": 9,
   "metadata": {},
   "outputs": [],
   "source": [
    "const1 = {'type':'eq', 'fun': c}\n",
    "cons=[const1]"
   ]
  },
  {
   "cell_type": "code",
   "execution_count": 10,
   "metadata": {},
   "outputs": [],
   "source": [
    "optNLP = minimize(o,[85,85,85,85,85,85,85,85,85,85,85,85,85,85,85,85,85,85,85,85,85,85,85,85,85,85,85,85,85,85,85,85,85,85,85,85,85,2],tol=1e-8,constraints=cons) \n"
   ]
  },
  {
   "cell_type": "code",
   "execution_count": 11,
   "metadata": {},
   "outputs": [
    {
     "data": {
      "text/plain": [
       "array([85.29996889, 85.23207974, 85.71251557, 85.32569569, 83.79031271,\n",
       "       85.03007145, 84.62955574, 84.99996121, 84.99996121, 85.67868152,\n",
       "       85.83104157, 84.3500279 , 84.99996121, 85.33063554, 84.1292624 ,\n",
       "       85.43980297, 84.46080182, 84.0902301 , 84.9975553 , 85.19329924,\n",
       "       85.68976688, 84.99996121, 85.18690291, 85.67733229, 83.35710476,\n",
       "       85.78332642, 85.58663291, 84.96773564, 84.10752438, 84.91064407,\n",
       "       84.9217776 , 83.6114396 , 84.8337153 , 86.50537468, 84.5480908 ,\n",
       "       85.79128753, 84.99996121,  0.19801117])"
      ]
     },
     "execution_count": 11,
     "metadata": {},
     "output_type": "execute_result"
    }
   ],
   "source": [
    "optNLP.x"
   ]
  },
  {
   "cell_type": "code",
   "execution_count": 12,
   "metadata": {},
   "outputs": [],
   "source": [
    "r=pd.Series(optNLP.x)"
   ]
  },
  {
   "cell_type": "code",
   "execution_count": 13,
   "metadata": {},
   "outputs": [
    {
     "data": {
      "text/plain": [
       "8415.814444059477"
      ]
     },
     "execution_count": 13,
     "metadata": {},
     "output_type": "execute_result"
    }
   ],
   "source": [
    "optNLP.fun"
   ]
  },
  {
   "cell_type": "code",
   "execution_count": 14,
   "metadata": {},
   "outputs": [
    {
     "name": "stderr",
     "output_type": "stream",
     "text": [
      "/var/folders/24/s0t2htkj4ns689m4x6zy50jw0000gn/T/ipykernel_36600/1492133158.py:1: SettingWithCopyWarning: \n",
      "A value is trying to be set on a copy of a slice from a DataFrame.\n",
      "Try using .loc[row_indexer,col_indexer] = value instead\n",
      "\n",
      "See the caveats in the documentation: https://pandas.pydata.org/pandas-docs/stable/user_guide/indexing.html#returning-a-view-versus-a-copy\n",
      "  df['PREDICTED_SPREAD']=0\n",
      "/var/folders/24/s0t2htkj4ns689m4x6zy50jw0000gn/T/ipykernel_36600/1492133158.py:3: SettingWithCopyWarning: \n",
      "A value is trying to be set on a copy of a slice from a DataFrame\n",
      "\n",
      "See the caveats in the documentation: https://pandas.pydata.org/pandas-docs/stable/user_guide/indexing.html#returning-a-view-versus-a-copy\n",
      "  df['PREDICTED_SPREAD'][i]=r[df['HOME_TEAM_INDEX'][i]-1]-r[df['AWAY_TEAM_INDEX'][i]-1]+r[37]\n",
      "/var/folders/24/s0t2htkj4ns689m4x6zy50jw0000gn/T/ipykernel_36600/1492133158.py:4: SettingWithCopyWarning: \n",
      "A value is trying to be set on a copy of a slice from a DataFrame.\n",
      "Try using .loc[row_indexer,col_indexer] = value instead\n",
      "\n",
      "See the caveats in the documentation: https://pandas.pydata.org/pandas-docs/stable/user_guide/indexing.html#returning-a-view-versus-a-copy\n",
      "  df['Mult']=df['ACTUAL_SPREAD']*df['PREDICTED_SPREAD']\n",
      "/var/folders/24/s0t2htkj4ns689m4x6zy50jw0000gn/T/ipykernel_36600/1492133158.py:5: SettingWithCopyWarning: \n",
      "A value is trying to be set on a copy of a slice from a DataFrame.\n",
      "Try using .loc[row_indexer,col_indexer] = value instead\n",
      "\n",
      "See the caveats in the documentation: https://pandas.pydata.org/pandas-docs/stable/user_guide/indexing.html#returning-a-view-versus-a-copy\n",
      "  df['Correct_Pred']=df['Mult'].apply(lambda x: 1 if x > 0 else 0)\n"
     ]
    },
    {
     "data": {
      "text/plain": [
       "879"
      ]
     },
     "execution_count": 14,
     "metadata": {},
     "output_type": "execute_result"
    }
   ],
   "source": [
    "df['PREDICTED_SPREAD']=0\n",
    "for i in range(n):\n",
    "    df['PREDICTED_SPREAD'][i]=r[df['HOME_TEAM_INDEX'][i]-1]-r[df['AWAY_TEAM_INDEX'][i]-1]+r[37]\n",
    "df['Mult']=df['ACTUAL_SPREAD']*df['PREDICTED_SPREAD']\n",
    "df['Correct_Pred']=df['Mult'].apply(lambda x: 1 if x > 0 else 0)\n",
    "df['Correct_Pred'].sum()"
   ]
  },
  {
   "cell_type": "code",
   "execution_count": 15,
   "metadata": {},
   "outputs": [
    {
     "data": {
      "text/plain": [
       "0     85.299969\n",
       "1     85.232080\n",
       "2     85.712516\n",
       "3     85.325696\n",
       "4     83.790313\n",
       "5     85.030071\n",
       "6     84.629556\n",
       "7     84.999961\n",
       "8     84.999961\n",
       "9     85.678682\n",
       "10    85.831042\n",
       "11    84.350028\n",
       "12    84.999961\n",
       "13    85.330636\n",
       "14    84.129262\n",
       "15    85.439803\n",
       "16    84.460802\n",
       "17    84.090230\n",
       "18    84.997555\n",
       "19    85.193299\n",
       "20    85.689767\n",
       "21    84.999961\n",
       "22    85.186903\n",
       "23    85.677332\n",
       "24    83.357105\n",
       "25    85.783326\n",
       "26    85.586633\n",
       "27    84.967736\n",
       "28    84.107524\n",
       "29    84.910644\n",
       "30    84.921778\n",
       "31    83.611440\n",
       "32    84.833715\n",
       "33    86.505375\n",
       "34    84.548091\n",
       "35    85.791288\n",
       "36    84.999961\n",
       "37     0.198011\n",
       "dtype: float64"
      ]
     },
     "execution_count": 15,
     "metadata": {},
     "output_type": "execute_result"
    }
   ],
   "source": [
    "r"
   ]
  },
  {
   "cell_type": "code",
   "execution_count": 16,
   "metadata": {},
   "outputs": [
    {
     "data": {
      "text/html": [
       "<div>\n",
       "<style scoped>\n",
       "    .dataframe tbody tr th:only-of-type {\n",
       "        vertical-align: middle;\n",
       "    }\n",
       "\n",
       "    .dataframe tbody tr th {\n",
       "        vertical-align: top;\n",
       "    }\n",
       "\n",
       "    .dataframe thead th {\n",
       "        text-align: right;\n",
       "    }\n",
       "</style>\n",
       "<table border=\"1\" class=\"dataframe\">\n",
       "  <thead>\n",
       "    <tr style=\"text-align: right;\">\n",
       "      <th></th>\n",
       "      <th>index</th>\n",
       "      <th>GAMEID</th>\n",
       "      <th>GAMEDATE</th>\n",
       "      <th>HOME_TEAM</th>\n",
       "      <th>HOME_TEAM_INDEX</th>\n",
       "      <th>AWAY_TEAM</th>\n",
       "      <th>AWAY_TEAM_INDEX</th>\n",
       "      <th>HOME_TEAM_SCORE</th>\n",
       "      <th>AWAY_TEAM_SCORE</th>\n",
       "      <th>OVERTIME_FLAG</th>\n",
       "      <th>ACTUAL_SPREAD</th>\n",
       "      <th>PREDICTED_SPREAD</th>\n",
       "      <th>Mult</th>\n",
       "      <th>Correct_Pred</th>\n",
       "    </tr>\n",
       "  </thead>\n",
       "  <tbody>\n",
       "    <tr>\n",
       "      <th>0</th>\n",
       "      <td>152</td>\n",
       "      <td>2022020056</td>\n",
       "      <td>20221019</td>\n",
       "      <td>FLA</td>\n",
       "      <td>1</td>\n",
       "      <td>PHI</td>\n",
       "      <td>12</td>\n",
       "      <td>4</td>\n",
       "      <td>3</td>\n",
       "      <td>0</td>\n",
       "      <td>1</td>\n",
       "      <td>1.147952</td>\n",
       "      <td>1.147952</td>\n",
       "      <td>1</td>\n",
       "    </tr>\n",
       "    <tr>\n",
       "      <th>1</th>\n",
       "      <td>153</td>\n",
       "      <td>2022020071</td>\n",
       "      <td>20221021</td>\n",
       "      <td>FLA</td>\n",
       "      <td>1</td>\n",
       "      <td>TBL</td>\n",
       "      <td>4</td>\n",
       "      <td>2</td>\n",
       "      <td>3</td>\n",
       "      <td>1</td>\n",
       "      <td>-1</td>\n",
       "      <td>0.172284</td>\n",
       "      <td>-0.172284</td>\n",
       "      <td>0</td>\n",
       "    </tr>\n",
       "    <tr>\n",
       "      <th>2</th>\n",
       "      <td>154</td>\n",
       "      <td>2022020090</td>\n",
       "      <td>20221023</td>\n",
       "      <td>FLA</td>\n",
       "      <td>1</td>\n",
       "      <td>NYI</td>\n",
       "      <td>14</td>\n",
       "      <td>3</td>\n",
       "      <td>2</td>\n",
       "      <td>0</td>\n",
       "      <td>1</td>\n",
       "      <td>0.167345</td>\n",
       "      <td>0.167345</td>\n",
       "      <td>1</td>\n",
       "    </tr>\n",
       "    <tr>\n",
       "      <th>3</th>\n",
       "      <td>155</td>\n",
       "      <td>2022020128</td>\n",
       "      <td>20221029</td>\n",
       "      <td>FLA</td>\n",
       "      <td>1</td>\n",
       "      <td>OTT</td>\n",
       "      <td>30</td>\n",
       "      <td>5</td>\n",
       "      <td>3</td>\n",
       "      <td>0</td>\n",
       "      <td>2</td>\n",
       "      <td>0.587336</td>\n",
       "      <td>1.174672</td>\n",
       "      <td>1</td>\n",
       "    </tr>\n",
       "    <tr>\n",
       "      <th>4</th>\n",
       "      <td>156</td>\n",
       "      <td>2022020207</td>\n",
       "      <td>20221109</td>\n",
       "      <td>FLA</td>\n",
       "      <td>1</td>\n",
       "      <td>CAR</td>\n",
       "      <td>36</td>\n",
       "      <td>3</td>\n",
       "      <td>0</td>\n",
       "      <td>0</td>\n",
       "      <td>3</td>\n",
       "      <td>-0.293307</td>\n",
       "      <td>-0.879922</td>\n",
       "      <td>0</td>\n",
       "    </tr>\n",
       "    <tr>\n",
       "      <th>...</th>\n",
       "      <td>...</td>\n",
       "      <td>...</td>\n",
       "      <td>...</td>\n",
       "      <td>...</td>\n",
       "      <td>...</td>\n",
       "      <td>...</td>\n",
       "      <td>...</td>\n",
       "      <td>...</td>\n",
       "      <td>...</td>\n",
       "      <td>...</td>\n",
       "      <td>...</td>\n",
       "      <td>...</td>\n",
       "      <td>...</td>\n",
       "      <td>...</td>\n",
       "    </tr>\n",
       "    <tr>\n",
       "      <th>1376</th>\n",
       "      <td>18068</td>\n",
       "      <td>2022021129</td>\n",
       "      <td>20230321</td>\n",
       "      <td>STL</td>\n",
       "      <td>17</td>\n",
       "      <td>DET</td>\n",
       "      <td>35</td>\n",
       "      <td>2</td>\n",
       "      <td>3</td>\n",
       "      <td>1</td>\n",
       "      <td>-1</td>\n",
       "      <td>0.110722</td>\n",
       "      <td>-0.110722</td>\n",
       "      <td>0</td>\n",
       "    </tr>\n",
       "    <tr>\n",
       "      <th>1377</th>\n",
       "      <td>18069</td>\n",
       "      <td>2022021181</td>\n",
       "      <td>20230328</td>\n",
       "      <td>STL</td>\n",
       "      <td>17</td>\n",
       "      <td>VAN</td>\n",
       "      <td>7</td>\n",
       "      <td>6</td>\n",
       "      <td>5</td>\n",
       "      <td>1</td>\n",
       "      <td>1</td>\n",
       "      <td>0.029257</td>\n",
       "      <td>0.029257</td>\n",
       "      <td>1</td>\n",
       "    </tr>\n",
       "    <tr>\n",
       "      <th>1378</th>\n",
       "      <td>18070</td>\n",
       "      <td>2022021234</td>\n",
       "      <td>20230404</td>\n",
       "      <td>STL</td>\n",
       "      <td>17</td>\n",
       "      <td>PHI</td>\n",
       "      <td>12</td>\n",
       "      <td>4</td>\n",
       "      <td>2</td>\n",
       "      <td>0</td>\n",
       "      <td>2</td>\n",
       "      <td>0.308785</td>\n",
       "      <td>0.617570</td>\n",
       "      <td>1</td>\n",
       "    </tr>\n",
       "    <tr>\n",
       "      <th>1379</th>\n",
       "      <td>18071</td>\n",
       "      <td>2022021251</td>\n",
       "      <td>20230406</td>\n",
       "      <td>STL</td>\n",
       "      <td>17</td>\n",
       "      <td>NYR</td>\n",
       "      <td>10</td>\n",
       "      <td>3</td>\n",
       "      <td>2</td>\n",
       "      <td>1</td>\n",
       "      <td>1</td>\n",
       "      <td>-1.019869</td>\n",
       "      <td>-1.019869</td>\n",
       "      <td>0</td>\n",
       "    </tr>\n",
       "    <tr>\n",
       "      <th>1380</th>\n",
       "      <td>18072</td>\n",
       "      <td>2022021296</td>\n",
       "      <td>20230412</td>\n",
       "      <td>STL</td>\n",
       "      <td>17</td>\n",
       "      <td>DAL</td>\n",
       "      <td>21</td>\n",
       "      <td>2</td>\n",
       "      <td>5</td>\n",
       "      <td>0</td>\n",
       "      <td>-3</td>\n",
       "      <td>-1.030954</td>\n",
       "      <td>3.092862</td>\n",
       "      <td>1</td>\n",
       "    </tr>\n",
       "  </tbody>\n",
       "</table>\n",
       "<p>1381 rows × 14 columns</p>\n",
       "</div>"
      ],
      "text/plain": [
       "      index      GAMEID  GAMEDATE HOME_TEAM  HOME_TEAM_INDEX AWAY_TEAM  \\\n",
       "0       152  2022020056  20221019       FLA                1       PHI   \n",
       "1       153  2022020071  20221021       FLA                1       TBL   \n",
       "2       154  2022020090  20221023       FLA                1       NYI   \n",
       "3       155  2022020128  20221029       FLA                1       OTT   \n",
       "4       156  2022020207  20221109       FLA                1       CAR   \n",
       "...     ...         ...       ...       ...              ...       ...   \n",
       "1376  18068  2022021129  20230321       STL               17       DET   \n",
       "1377  18069  2022021181  20230328       STL               17       VAN   \n",
       "1378  18070  2022021234  20230404       STL               17       PHI   \n",
       "1379  18071  2022021251  20230406       STL               17       NYR   \n",
       "1380  18072  2022021296  20230412       STL               17       DAL   \n",
       "\n",
       "      AWAY_TEAM_INDEX  HOME_TEAM_SCORE  AWAY_TEAM_SCORE  OVERTIME_FLAG  \\\n",
       "0                  12                4                3              0   \n",
       "1                   4                2                3              1   \n",
       "2                  14                3                2              0   \n",
       "3                  30                5                3              0   \n",
       "4                  36                3                0              0   \n",
       "...               ...              ...              ...            ...   \n",
       "1376               35                2                3              1   \n",
       "1377                7                6                5              1   \n",
       "1378               12                4                2              0   \n",
       "1379               10                3                2              1   \n",
       "1380               21                2                5              0   \n",
       "\n",
       "      ACTUAL_SPREAD  PREDICTED_SPREAD      Mult  Correct_Pred  \n",
       "0                 1          1.147952  1.147952             1  \n",
       "1                -1          0.172284 -0.172284             0  \n",
       "2                 1          0.167345  0.167345             1  \n",
       "3                 2          0.587336  1.174672             1  \n",
       "4                 3         -0.293307 -0.879922             0  \n",
       "...             ...               ...       ...           ...  \n",
       "1376             -1          0.110722 -0.110722             0  \n",
       "1377              1          0.029257  0.029257             1  \n",
       "1378              2          0.308785  0.617570             1  \n",
       "1379              1         -1.019869 -1.019869             0  \n",
       "1380             -3         -1.030954  3.092862             1  \n",
       "\n",
       "[1381 rows x 14 columns]"
      ]
     },
     "execution_count": 16,
     "metadata": {},
     "output_type": "execute_result"
    }
   ],
   "source": [
    "df[['HOME_Te']]"
   ]
  }
 ],
 "metadata": {
  "kernelspec": {
   "display_name": "Python 3 (ipykernel)",
   "language": "python",
   "name": "python3"
  },
  "language_info": {
   "codemirror_mode": {
    "name": "ipython",
    "version": 3
   },
   "file_extension": ".py",
   "mimetype": "text/x-python",
   "name": "python",
   "nbconvert_exporter": "python",
   "pygments_lexer": "ipython3",
   "version": "3.10.10"
  }
 },
 "nbformat": 4,
 "nbformat_minor": 2
}
